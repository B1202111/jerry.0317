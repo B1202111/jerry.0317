{
  "nbformat": 4,
  "nbformat_minor": 0,
  "metadata": {
    "colab": {
      "provenance": []
    },
    "kernelspec": {
      "name": "python3",
      "display_name": "Python 3"
    },
    "language_info": {
      "name": "python"
    }
  },
  "cells": [
    {
      "cell_type": "code",
      "execution_count": 5,
      "metadata": {
        "colab": {
          "base_uri": "https://localhost:8080/"
        },
        "id": "yu70_nzDvPwe",
        "outputId": "6a2027b0-ef7c-4db5-e249-942870000809"
      },
      "outputs": [
        {
          "output_type": "stream",
          "name": "stdout",
          "text": [
            "輸入數字：1\n",
            "錯誤\n"
          ]
        }
      ],
      "source": [
        "a=int(input(\"輸入數字：\"))\n",
        "if(a<2):\n",
        "  print(\"錯誤\")\n",
        "else:\n",
        "  for i in range(a,1,-1):\n",
        "    n=0\n",
        "    for j in range(1,i+1):\n",
        "      if i%j==0:\n",
        "        n+=1\n",
        "    if n==2:\n",
        "      break\n",
        "  print(i)\n"
      ]
    },
    {
      "cell_type": "code",
      "source": [
        "a=input('請輸入數字：')\n",
        "b=[]\n",
        "e=a.split(',')\n",
        "for i in range(len(e)):\n",
        "  e[i]=int(e[i])\n",
        "for i in range(len(e)):\n",
        "  m=0\n",
        "  for j in range(len(e)):\n",
        "    if e[j]<e[i]:\n",
        "      m+=1\n",
        "  b.append(m)\n",
        "print(b)"
      ],
      "metadata": {
        "colab": {
          "base_uri": "https://localhost:8080/"
        },
        "id": "e3gGxYpOwBsG",
        "outputId": "dbc697fb-637f-4a54-9b62-2656ca628386"
      },
      "execution_count": 14,
      "outputs": [
        {
          "output_type": "stream",
          "name": "stdout",
          "text": [
            "請輸入數字：4,1,2,2,3\n",
            "[4, 0, 1, 1, 3]\n"
          ]
        }
      ]
    },
    {
      "cell_type": "code",
      "source": [
        "a=input('輸入：')\n",
        "b=[]\n",
        "n=0\n",
        "for i in range(len(a)):\n",
        "  m=0\n",
        "  for j in range(len(a)):\n",
        "    if a[j]=='1':\n",
        "      n=abs(j-i)\n",
        "      m+=n\n",
        "  b.append(m)\n",
        "print(b)"
      ],
      "metadata": {
        "colab": {
          "base_uri": "https://localhost:8080/"
        },
        "id": "u8q1BI2Jx5wt",
        "outputId": "2752d3fd-bc91-4de4-a343-9df9f3770cdf"
      },
      "execution_count": 16,
      "outputs": [
        {
          "output_type": "stream",
          "name": "stdout",
          "text": [
            "輸入：001011\n",
            "[11, 8, 5, 4, 3, 4]\n"
          ]
        }
      ]
    },
    {
      "cell_type": "code",
      "source": [],
      "metadata": {
        "id": "NCMxO-kSy48n"
      },
      "execution_count": null,
      "outputs": []
    }
  ]
}