{
  "nbformat": 4,
  "nbformat_minor": 0,
  "metadata": {
    "colab": {
      "provenance": []
    },
    "kernelspec": {
      "name": "python3",
      "display_name": "Python 3"
    },
    "language_info": {
      "name": "python"
    }
  },
  "cells": [
    {
      "cell_type": "code",
      "execution_count": 1,
      "metadata": {
        "colab": {
          "base_uri": "https://localhost:8080/"
        },
        "id": "FsIlwLTFNdmC",
        "outputId": "c123f418-b935-4039-ed59-1f6a3d776f14"
      },
      "outputs": [
        {
          "output_type": "stream",
          "name": "stdout",
          "text": [
            "I'm a student\n"
          ]
        }
      ],
      "source": [
        "x=\"I'm a student\"\n",
        "print(x)"
      ]
    },
    {
      "cell_type": "code",
      "source": [
        "m=input('A(x1):')\n",
        "n=input('A(y1):')\n",
        "o=input('A(x2):')\n",
        "s=input('A(y2):')\n",
        "z=(float(m)-float(o))**2+(float(n)-float(s))**2\n",
        "print(z**(1/2))"
      ],
      "metadata": {
        "colab": {
          "base_uri": "https://localhost:8080/"
        },
        "id": "ciKYf4xRNlsM",
        "outputId": "647f759e-7f9c-4746-b592-8e4952af9846"
      },
      "execution_count": 2,
      "outputs": [
        {
          "output_type": "stream",
          "name": "stdout",
          "text": [
            "A(x1):0\n",
            "A(y1):0\n",
            "A(x2):3\n",
            "A(y2):4\n",
            "5.0\n"
          ]
        }
      ]
    },
    {
      "cell_type": "code",
      "source": [
        "l=input('請輸入你的身高(公尺)：')\n",
        "w=input('請輸入你的身高(公斤)：')\n",
        "l=float(l)\n",
        "w=float(w)\n",
        "l**=2\n",
        "w/=l\n",
        "print(int(w<18.5))"
      ],
      "metadata": {
        "colab": {
          "base_uri": "https://localhost:8080/"
        },
        "id": "2AJy9Xw4OZDX",
        "outputId": "2e69f434-34dd-4e72-925a-46d6a5794b8c"
      },
      "execution_count": 5,
      "outputs": [
        {
          "output_type": "stream",
          "name": "stdout",
          "text": [
            "請輸入你的身高(公尺)：1.8\n",
            "請輸入你的身高(公斤)：55\n",
            "1\n"
          ]
        }
      ]
    }
  ]
}