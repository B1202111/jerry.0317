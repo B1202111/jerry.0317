{
  "nbformat": 4,
  "nbformat_minor": 0,
  "metadata": {
    "colab": {
      "provenance": []
    },
    "kernelspec": {
      "name": "python3",
      "display_name": "Python 3"
    },
    "language_info": {
      "name": "python"
    }
  },
  "cells": [
    {
      "cell_type": "code",
      "execution_count": null,
      "metadata": {
        "colab": {
          "base_uri": "https://localhost:8080/"
        },
        "id": "ZURKK9m-fqVn",
        "outputId": "012164d1-fcaf-42d9-f503-83907edd719e"
      },
      "outputs": [
        {
          "output_type": "stream",
          "name": "stdout",
          "text": [
            "H\n",
            "e\n",
            "l\n",
            "l\n",
            "o\n",
            ",\n",
            "W\n",
            "o\n",
            "r\n",
            "l\n",
            "d\n",
            "!\n",
            "!\n",
            "!\n",
            "!\n",
            "!\n"
          ]
        }
      ],
      "source": [
        "print(\"H\")\n",
        "print(\"e\")\n",
        "print(\"l\")\n",
        "print(\"l\")\n",
        "print(\"o\")\n",
        "print(\",\")\n",
        "print(\"W\")\n",
        "print(\"o\")\n",
        "print(\"r\")\n",
        "print(\"l\")\n",
        "print(\"d\")\n",
        "print(\"!\")\n",
        "print(\"!\")\n",
        "print(\"!\")\n",
        "print(\"!\")\n",
        "print(\"!\")"
      ]
    }
  ]
}