{
  "nbformat": 4,
  "nbformat_minor": 0,
  "metadata": {
    "colab": {
      "provenance": []
    },
    "kernelspec": {
      "name": "python3",
      "display_name": "Python 3"
    },
    "language_info": {
      "name": "python"
    }
  },
  "cells": [
    {
      "cell_type": "code",
      "execution_count": null,
      "metadata": {
        "colab": {
          "base_uri": "https://localhost:8080/"
        },
        "id": "_khiGX8xW3Bm",
        "outputId": "966edd87-f01d-4854-807f-17fbcb63a3be"
      },
      "outputs": [
        {
          "output_type": "stream",
          "name": "stdout",
          "text": [
            "A\n",
            "['K', 'H', 'U']\n"
          ]
        }
      ],
      "source": [
        "a='C,B,A'\n",
        "b=['F','G','H']\n",
        "a=a.split(',')\n",
        "b=a+b\n",
        "b[0]='K'\n",
        "c=b.pop(2)\n",
        "print(c)\n",
        "del b[1:4]\n",
        "b.append('U')\n",
        "print(b)"
      ]
    },
    {
      "cell_type": "code",
      "source": [
        "l=input('請輸入你的身高(公尺)：')\n",
        "w=input('請輸入你的體重(公斤)：')\n",
        "l=float(l)\n",
        "w=float(w)\n",
        "l**=2\n",
        "w/=l\n",
        "print('BMI:',w)\n",
        "if w>=27.0:\n",
        "  print('體位:肥胖')\n",
        "elif w<27.0 and w>=24.0:\n",
        "  print('體位:過重')\n",
        "elif w<24.0 and w>=18.5:\n",
        "  print('體位:適中')\n",
        "else:\n",
        "  print('體位:過輕')"
      ],
      "metadata": {
        "colab": {
          "base_uri": "https://localhost:8080/"
        },
        "id": "0CDBWpd1lzK7",
        "outputId": "cb740e3f-8208-4b97-92e3-a6ebbb386148"
      },
      "execution_count": null,
      "outputs": [
        {
          "output_type": "stream",
          "name": "stdout",
          "text": [
            "請輸入你的身高(公尺)：1.8\n",
            "請輸入你的體重(公斤)：60\n",
            "BMI: 18.51851851851852\n",
            "體位:適中\n"
          ]
        }
      ]
    }
  ]
}