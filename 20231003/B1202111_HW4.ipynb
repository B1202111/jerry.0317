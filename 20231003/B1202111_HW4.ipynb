{
  "nbformat": 4,
  "nbformat_minor": 0,
  "metadata": {
    "colab": {
      "provenance": []
    },
    "kernelspec": {
      "name": "python3",
      "display_name": "Python 3"
    },
    "language_info": {
      "name": "python"
    }
  },
  "cells": [
    {
      "cell_type": "code",
      "execution_count": 32,
      "metadata": {
        "colab": {
          "base_uri": "https://localhost:8080/"
        },
        "id": "gJtZdkSWhSJi",
        "outputId": "e61dd509-c211-4b43-b78c-efb7f56338a2"
      },
      "outputs": [
        {
          "output_type": "stream",
          "name": "stdout",
          "text": [
            "請輸入5個成績(並將不同分數以空白隔開):30 40 20 70 50\n",
            "40\n"
          ]
        }
      ],
      "source": [
        "a=input('請輸入5個成績(並將不同分數以空白隔開):')\n",
        "a=list(map(int,a.split()))\n",
        "a.sort()\n",
        "sum=int((a[1]+a[2]+a[3])/3)\n",
        "print(sum)"
      ]
    },
    {
      "cell_type": "code",
      "source": [
        "a=input('請輸入2個數字(並將不同數字以空白隔開):')\n",
        "a=list(map(float,a.split()))\n",
        "b=input(\"請輸入一個運算符號:(+,-,*,/)\")\n",
        "if b==\"+\":\n",
        "  x=a[0]+a[1]\n",
        "elif b==\"-\":\n",
        "  x=a[0]-a[1]\n",
        "elif b==\"*\":\n",
        "  x=a[0]*a[1]\n",
        "else:\n",
        "  x=a[0]/a[1]\n",
        "\n",
        "print(x)\n"
      ],
      "metadata": {
        "colab": {
          "base_uri": "https://localhost:8080/"
        },
        "id": "f2JS05xQpS8n",
        "outputId": "c0c6c57d-34f0-4902-a08b-4e1d99e1ef70"
      },
      "execution_count": 44,
      "outputs": [
        {
          "output_type": "stream",
          "name": "stdout",
          "text": [
            "請輸入2個數字(並將不同數字以空白隔開):3 7\n",
            "請輸入一個運算符號:(+,-,*,/)*\n",
            "21.0\n"
          ]
        }
      ]
    },
    {
      "cell_type": "code",
      "source": [
        "a=int(input(\"請輸入年分:\"))\n",
        "if a>1582:\n",
        "  if a%4==0:\n",
        "    if a%100==0:\n",
        "      if a%400==0:\n",
        "        print(\"閏年\")\n",
        "      else:\n",
        "        print(\"平年\")\n",
        "    else:\n",
        "      rint(\"閏年\")\n",
        "  else:\n",
        "    print(\"平年\")\n",
        "else:\n",
        "  if a%4==0:\n",
        "    print(\"閏年\")\n",
        "  else:\n",
        "    print(\"平年\")"
      ],
      "metadata": {
        "colab": {
          "base_uri": "https://localhost:8080/"
        },
        "id": "JTz6a4ySvGGA",
        "outputId": "24d05225-0804-485a-93d7-140190f7aa2d"
      },
      "execution_count": 51,
      "outputs": [
        {
          "output_type": "stream",
          "name": "stdout",
          "text": [
            "請輸入年分:1600\n",
            "閏年\n"
          ]
        }
      ]
    }
  ]
}