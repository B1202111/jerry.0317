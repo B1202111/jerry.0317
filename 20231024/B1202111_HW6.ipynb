{
  "nbformat": 4,
  "nbformat_minor": 0,
  "metadata": {
    "colab": {
      "provenance": []
    },
    "kernelspec": {
      "name": "python3",
      "display_name": "Python 3"
    },
    "language_info": {
      "name": "python"
    }
  },
  "cells": [
    {
      "cell_type": "code",
      "execution_count": null,
      "metadata": {
        "id": "rt6_3Qr6Ys-5"
      },
      "outputs": [],
      "source": [
        "def a(x):\n",
        "  for i in range(1,x+1):\n",
        "    print(' '*(x-i)+'*'*(2*i-1))\n",
        "  for j in range(1,6):\n",
        "    print(' '*(x-2)+'*'*3)\n",
        "y=int(input('耶誕樹層數：'))\n",
        "a(y)"
      ]
    },
    {
      "cell_type": "code",
      "source": [
        "def num(x,y):\n",
        " return x/y**2\n",
        "\n",
        "def result(a):\n",
        "  if a<18.5:\n",
        "    return '過輕'\n",
        "  elif 18.5<=a<24:\n",
        "    return '適中'\n",
        "  elif 24<=a<27:\n",
        "    return '過重'\n",
        "  else:\n",
        "    return '肥胖'\n",
        "\n",
        "try:\n",
        "  h=float(input('身高(公分)：'))\n",
        "  w=float(input('體重(公斤)：'))\n",
        "  BMI=float(num(w,h/100))\n",
        "  print(f'BMI:{BMI}')\n",
        "  print(f'體位:{result(BMI)}')\n",
        "except:\n",
        "  print('輸入內容錯誤')"
      ],
      "metadata": {
        "colab": {
          "base_uri": "https://localhost:8080/"
        },
        "id": "lxBw1OcIcS81",
        "outputId": "97663a79-ca72-4ad7-9f83-22c43fe078f9"
      },
      "execution_count": 10,
      "outputs": [
        {
          "output_type": "stream",
          "name": "stdout",
          "text": [
            "身高(公分)：180\n",
            "體重(公斤)：65\n",
            "BMI:20.061728395061728\n",
            "體位:適中\n"
          ]
        }
      ]
    }
  ]
}