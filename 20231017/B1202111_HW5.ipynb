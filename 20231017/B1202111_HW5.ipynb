{
  "nbformat": 4,
  "nbformat_minor": 0,
  "metadata": {
    "colab": {
      "provenance": []
    },
    "kernelspec": {
      "name": "python3",
      "display_name": "Python 3"
    },
    "language_info": {
      "name": "python"
    }
  },
  "cells": [
    {
      "cell_type": "code",
      "execution_count": 1,
      "metadata": {
        "colab": {
          "base_uri": "https://localhost:8080/"
        },
        "id": "_wF0aGu4815d",
        "outputId": "2b442771-f16a-4418-8b1c-e980d39e7924"
      },
      "outputs": [
        {
          "output_type": "stream",
          "name": "stdout",
          "text": [
            "        *        \n",
            "       ***       \n",
            "      *****      \n",
            "     *******     \n",
            "    *********    \n",
            "   ***********   \n",
            "  *************  \n",
            " *************** \n",
            "*****************\n",
            "       ***       \n",
            "       ***       \n",
            "       ***       \n",
            "       ***       \n",
            "       ***       \n"
          ]
        }
      ],
      "source": [
        "n=9\n",
        "for i in range(1,n+1):\n",
        "  ans='*'*(2*i-1)\n",
        "  print('{0:^{width}}'.format(ans,width=2*n-1))\n",
        "\n",
        "for i in range(1,6):\n",
        "  a='*'*3\n",
        "  print('{0:^{width}}'.format(a,width=2*n-1))"
      ]
    },
    {
      "cell_type": "code",
      "source": [
        "import random\n",
        "\n",
        "secret_number = random.sample(range(1,10),4)\n",
        "attempts = 0\n",
        "print(secret_number)\n",
        "\n",
        "while True:\n",
        "    user_input = input('輸入四個數字(不會重複)：')\n",
        "    a=0\n",
        "    b=0\n",
        "\n",
        "    if len(user_input) != 4 :\n",
        "        print('輸入數字過多，請輸入四個數字(不會重複)')\n",
        "        continue\n",
        "\n",
        "    guess = [int(digit) for digit in user_input]\n",
        "    attempts += 1\n",
        "\n",
        "    for i in range(4):\n",
        "      if guess[i]==secret_number[i]:\n",
        "        a+=1\n",
        "      elif guess[i] in secret_number:\n",
        "        b+=1\n",
        "\n",
        "    if a == 4:\n",
        "        print(f'答對了！總共猜了 {attempts} 次。')\n",
        "        break\n",
        "    else:\n",
        "        print(f'{user_input}：{a}A{b}B')"
      ],
      "metadata": {
        "colab": {
          "base_uri": "https://localhost:8080/"
        },
        "id": "hrqRd7wA9HL1",
        "outputId": "0858dd03-bc53-40ea-89c9-8a2fe11f7f56"
      },
      "execution_count": 3,
      "outputs": [
        {
          "output_type": "stream",
          "name": "stdout",
          "text": [
            "[3, 1, 5, 4]\n",
            "輸入四個數字(不會重複)：31548\n",
            "輸入數字過多，請輸入四個數字(不會重複)\n",
            "輸入四個數字(不會重複)：3295\n",
            "3295：1A1B\n",
            "輸入四個數字(不會重複)：4532\n",
            "4532：0A3B\n",
            "輸入四個數字(不會重複)：3174\n",
            "3174：3A0B\n",
            "輸入四個數字(不會重複)：3154\n",
            "答對了！總共猜了 4 次。\n"
          ]
        }
      ]
    }
  ]
}